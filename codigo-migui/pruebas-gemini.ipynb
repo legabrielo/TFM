{
 "cells": [
  {
   "cell_type": "code",
   "execution_count": 104,
   "metadata": {},
   "outputs": [
    {
     "name": "stdout",
     "output_type": "stream",
     "text": [
      "   year month     df1     df2\n",
      "0  2005   Apr   99.64   87.67\n",
      "1  2005   Dec   97.83   93.27\n",
      "2  2005   Feb  134.73  145.59\n",
      "3  2005   Jan  189.85  168.74\n",
      "4  2005   Mar  112.23  209.36\n"
     ]
    }
   ],
   "source": [
    "import pandas as pd\n",
    "import numpy as np\n",
    "\n",
    "h =[]\n",
    "# Sample DataFrames (assuming different lengths)\n",
    "df1 = pd.DataFrame({\"year\": [2005, 2005, 2005, 2005, 2005],\n",
    "                   \"month\": [\"Jan\", \"Feb\", \"Mar\", \"Apr\", \"Dec\"],\n",
    "                   \"H(h)_m\": [99.64, 97.83, 134.73, 189.85, 112.23]})\n",
    "\n",
    "df2 = pd.DataFrame({\"year\": [2005, 2005, 2005, 2005, 2005],\n",
    "                   \"month\": [\"Jan\", \"Feb\", \"Mar\", \"Apr\", \"Dec\"],\n",
    "                   \"H(h)_m\": [87.67, 93.27, 145.59, 168.74, 209.36]})\n",
    "\n",
    "# Combine \"year\" and \"month\" columns from both DataFrames\n",
    "df_comun = pd.merge(df1[[\"year\", \"month\"]], df2[[\"year\", \"month\"]], how='outer', on=['year', 'month'])\n",
    "df_comun[\"df1\"] = df1[\"H(h)_m\"]\n",
    "df_comun[\"df2\"] = df2[\"H(h)_m\"]\n",
    "\n",
    "\n",
    "\n",
    "# Show the combined DataFrame\n",
    "print(df_comun)\n"
   ]
  },
  {
   "cell_type": "code",
   "execution_count": 105,
   "metadata": {},
   "outputs": [],
   "source": [
    "month_num_map = {\"Jan\": 1, \"Feb\": 2, \"Mar\": 3, \"Apr\": 4, \"May\": 5, \"Jun\": 6,\n",
    "                  \"Jul\": 7, \"Aug\": 8, \"Sep\": 9, \"Oct\": 10, \"Nov\": 11, \"Dec\": 12}\n",
    "\n",
    "df_comun[\"month\"] = df_comun[\"month\"].map(month_num_map)\n",
    "\n"
   ]
  },
  {
   "cell_type": "code",
   "execution_count": 106,
   "metadata": {},
   "outputs": [
    {
     "name": "stdout",
     "output_type": "stream",
     "text": [
      "   year  month     df1     df2    Fecha\n",
      "0  2005      4   99.64   87.67  2005_04\n",
      "1  2005     12   97.83   93.27  2005_12\n",
      "2  2005      2  134.73  145.59  2005_02\n",
      "3  2005      1  189.85  168.74  2005_01\n",
      "4  2005      3  112.23  209.36  2005_03\n"
     ]
    }
   ],
   "source": [
    "df_comun[\"Fecha\"] = df_comun.apply(lambda row: f\"{row['year']}\", axis=1)\n",
    "df_comun[\"Fecha\"] = df_comun.apply(lambda row: f\"{row['year']}_{str(row['month']).zfill(2)}\", axis=1)\n",
    "\n",
    "print(df_comun)\n"
   ]
  },
  {
   "cell_type": "code",
   "execution_count": 107,
   "metadata": {},
   "outputs": [
    {
     "name": "stdout",
     "output_type": "stream",
     "text": [
      "     Fecha     df1     df2\n",
      "0  2005_04   99.64   87.67\n",
      "1  2005_12   97.83   93.27\n",
      "2  2005_02  134.73  145.59\n",
      "3  2005_01  189.85  168.74\n",
      "4  2005_03  112.23  209.36\n"
     ]
    }
   ],
   "source": [
    "# Mover \"Fecha\" a la primera posición\n",
    "df_comun = df_comun[['Fecha'] + list(df_comun.columns[2:-1])]\n",
    "print(df_comun)"
   ]
  }
 ],
 "metadata": {
  "kernelspec": {
   "display_name": "venv",
   "language": "python",
   "name": "python3"
  },
  "language_info": {
   "codemirror_mode": {
    "name": "ipython",
    "version": 3
   },
   "file_extension": ".py",
   "mimetype": "text/x-python",
   "name": "python",
   "nbconvert_exporter": "python",
   "pygments_lexer": "ipython3",
   "version": "3.12.3"
  }
 },
 "nbformat": 4,
 "nbformat_minor": 2
}
